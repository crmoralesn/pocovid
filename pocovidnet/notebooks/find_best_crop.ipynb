{
 "metadata": {
  "language_info": {
   "codemirror_mode": {
    "name": "ipython",
    "version": 3
   },
   "file_extension": ".py",
   "mimetype": "text/x-python",
   "name": "python",
   "nbconvert_exporter": "python",
   "pygments_lexer": "ipython3",
   "version": "3.6.10-final"
  },
  "orig_nbformat": 2,
  "kernelspec": {
   "name": "python3",
   "display_name": "Python 3",
   "language": "python"
  }
 },
 "nbformat": 4,
 "nbformat_minor": 2,
 "cells": [
  {
   "cell_type": "code",
   "execution_count": null,
   "metadata": {},
   "outputs": [],
   "source": [
    "import cv2\n",
    "import os\n",
    "import json\n",
    "import matplotlib.pylab as plt"
   ]
  },
  {
   "cell_type": "code",
   "execution_count": null,
   "metadata": {},
   "outputs": [],
   "source": [
    "def read_first_frame(fp):\n",
    "    cap = cv2.VideoCapture(fp)\n",
    "    ret, cropped = cap.read()\n",
    "    if cropped is None:\n",
    "        cap = cv2.VideoCapture(\".\".join(fp.split(\".\")[:-1]) + \".mp4\")\n",
    "        ret, cropped = cap.read()\n",
    "        print(\"changed to mp4\")\n",
    "    return cropped, cap"
   ]
  },
  {
   "cell_type": "code",
   "execution_count": null,
   "metadata": {},
   "outputs": [],
   "source": [
    "path = \"../../data/tmp\"\n",
    "\n",
    "with open(\"../../data/crop.json\", \"r\") as infile:\n",
    "    crop_dir = json.load(infile)\n",
    "\n",
    "path_cropped = \"../../../covid19_pocus_ultrasound/data/\"\n",
    "for folder in [\n",
    "    \"pocus_videos/convex\", \"pocus_videos/linear\", \"pocus_images/convex\",\n",
    "    \"pocus_images/linear\"\n",
    "]:\n",
    "    for filename in os.listdir(os.path.join(path, folder)):\n",
    "        print(filename)\n",
    "        if os.path.join(folder, filename) in crop_dir.keys():\n",
    "            print(\"already done\")\n",
    "            continue\n",
    "        if filename[0] == \".\":\n",
    "            continue\n",
    "        # cropped, _ = read_first_frame(os.path.join(path_cropped, folder, filename))\n",
    "        # normal, cap = read_first_frame(os.path.join(path, folder, filename))\n",
    "        print(os.path.exists(os.path.join(path, folder, filename)))\n",
    "        cap = cv2.VideoCapture(os.path.join(path, folder, filename))\n",
    "        ret, frame = cap.read()\n",
    "        print(ret)\n",
    "        # x,y, _ = cropped.shape\n",
    "        # for i in range(normal.shape[0]-x):\n",
    "        #     for j in range(normal.shape[1]-y):\n",
    "        #         patch = normal[i:i+x, j:j+y]\n",
    "        #         if np.all(patch == cropped):\n",
    "        #             print(\"FOUND\")\n",
    "        # crop\n",
    "\n",
    "        x, y, _ = frame.shape\n",
    "        min_shape = min([x, y])\n",
    "        # crop = [int(0.1*x), int(y/2-0.9*min_shape/2), int(0.9 * min_shape)]\n",
    "        crop = [0, 0, min_shape]\n",
    "        while True:\n",
    "            bottom, left, size = crop\n",
    "            # count = 0\n",
    "            # while cap.isOpened() and count< 1:\n",
    "            plt.imshow(frame[bottom:bottom + size, left:left + size])\n",
    "            plt.show()\n",
    "            crop_in = input(\"okay?\")\n",
    "            if crop_in == 1 or crop_in == \"1\":\n",
    "                crop_dir[os.path.join(folder,\n",
    "                                      filename)] = [crop, [0, cap.get(7)]]\n",
    "                break\n",
    "            if crop_in == \"0\":\n",
    "                ret, frame = cap.read()\n",
    "            else:\n",
    "                crop_in = input(\"input list \" + str(crop))\n",
    "                crop = eval(crop_in)\n",
    "                print(crop)\n",
    "\n",
    "with open(\"../../data/crop.json\", \"w\") as infile:\n",
    "    json.dump(crop_dir, infile)"
   ]
  },
  {
   "cell_type": "code",
   "execution_count": null,
   "metadata": {},
   "outputs": [],
   "source": []
  }
 ]
}