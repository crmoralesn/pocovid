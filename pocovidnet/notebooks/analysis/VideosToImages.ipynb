{
 "cells": [
  {
   "cell_type": "code",
   "execution_count": null,
   "metadata": {},
   "outputs": [],
   "source": [
    "import pandas as ps\n",
    "import numpy as np\n",
    "import cv2     # for capturing videos\n",
    "import math   \n",
    "import matplotlib.pyplot as plt\n",
    "%matplotlib inline\n",
    "import pandas as pd\n",
    "import os\n",
    "import shutil\n",
    "from skvideo import io"
   ]
  },
  {
   "cell_type": "markdown",
   "metadata": {},
   "source": [
    "# New version for video processing"
   ]
  },
  {
   "cell_type": "code",
   "execution_count": null,
   "metadata": {},
   "outputs": [],
   "source": [
    "video_dir = \"cleaned_data_videos/cropped_data_auto\"\n",
    "out_image_dir = \"cleaned_data_images\"\n",
    "CROSS_VAL_DIR = \"cross_validation_data\""
   ]
  },
  {
   "cell_type": "code",
   "execution_count": null,
   "metadata": {},
   "outputs": [],
   "source": [
    "files = os.listdir(video_dir)\n",
    "labs = [f[:3] for f in files]\n",
    "print(np.unique(labs, return_counts=True))"
   ]
  },
  {
   "cell_type": "markdown",
   "metadata": {},
   "source": [
    "### Make directories"
   ]
  },
  {
   "cell_type": "code",
   "execution_count": null,
   "metadata": {},
   "outputs": [],
   "source": [
    "# make directories:\n",
    "if not os.path.exists(out_image_dir):\n",
    "    os.makedirs(out_image_dir)\n",
    "if not os.path.exists(CROSS_VAL_DIR):\n",
    "    os.makedirs(CROSS_VAL_DIR)   \n",
    "for mod in [\"covid\", \"pneumonia\", \"regular\"]: # viral\n",
    "    if not os.path.exists(os.path.join(out_image_dir, mod)):\n",
    "        os.makedirs(os.path.join(out_image_dir, mod))"
   ]
  },
  {
   "cell_type": "markdown",
   "metadata": {},
   "source": [
    "## Videos to images - automatically select every x frame\n",
    "\n",
    "Takes all videos from video_dir and writes the frames to out_image_dir"
   ]
  },
  {
   "cell_type": "markdown",
   "metadata": {},
   "source": [
    "### prepare script"
   ]
  },
  {
   "cell_type": "code",
   "execution_count": null,
   "metadata": {},
   "outputs": [],
   "source": [
    "TAKE_CLASSES = [\"covid\", \"pneumonia\", \"regular\"]\n",
    "TAKE_MODE = [\"Linear\", \"Convex\"]\n",
    "FRAMERATE = 3 # saves automatically 2 frames per second\n",
    "MAX_FRAMES = 30\n",
    "POCUS_IMAGE_DIR = \"../../data/pocus_images\"\n",
    "POCUS_VIDEO_DIR = \"../../data/pocus_videos\"\n",
    "out_image_dir = \"../../data/image_dataset\"\n",
    "if not os.path.exists(out_image_dir):\n",
    "    os.makedirs(out_image_dir)  \n",
    "for mod in TAKE_CLASSES:\n",
    "    if not os.path.exists(os.path.join(out_image_dir, mod)):\n",
    "        os.makedirs(os.path.join(out_image_dir, mod))"
   ]
  },
  {
   "cell_type": "code",
   "execution_count": null,
   "metadata": {},
   "outputs": [],
   "source": [
    "def label_to_dir(lab):\n",
    "    if lab == \"Cov\":\n",
    "        label = \"covid\"\n",
    "    elif lab == \"Pne\" or lab == \"pne\":\n",
    "        label = \"pneumonia\"\n",
    "    elif lab == \"Reg\":\n",
    "        label = \"regular\"\n",
    "    elif lab == \"Vir\":\n",
    "        label = \"viral\"\n",
    "    else:\n",
    "        raise ValueError(\"Wrong label! \" + lab)\n",
    "    return label # os.path.join(label, lab + \"-\")"
   ]
  },
  {
   "cell_type": "code",
   "execution_count": null,
   "metadata": {},
   "outputs": [],
   "source": [
    "# copy all images from pocus_images\n",
    "for mode in TAKE_MODE:\n",
    "    for fp in os.listdir(os.path.join(POCUS_IMAGE_DIR, mode)):\n",
    "        if fp[-3:] in [\"png\", \"jpg\", \"jpeg\"]:\n",
    "            label_dir = label_to_dir(fp[:3])\n",
    "            if label_dir in TAKE_CLASSES:\n",
    "                # print(os.path.join(POCUS_IMAGE_DIR, mode,fp), os.path.join(out_image_dir, label_dir))\n",
    "                shutil.copy(os.path.join(POCUS_IMAGE_DIR, mode,fp), os.path.join(out_image_dir, label_dir))"
   ]
  },
  {
   "cell_type": "code",
   "execution_count": null,
   "metadata": {},
   "outputs": [],
   "source": [
    "for mode in TAKE_MODE:\n",
    "    vid_files = os.listdir(os.path.join(POCUS_VIDEO_DIR, mode))\n",
    "    for i in range(len(vid_files)):\n",
    "\n",
    "        # skip non video files\n",
    "        if vid_files[i][-3:].lower() not in [\"mpeg\", \"gif\", \"mp4\", \"m4v\", \"avi\", \"mov\"]:\n",
    "            continue\n",
    "\n",
    "        # define video path\n",
    "        video_path = os.path.join(POCUS_VIDEO_DIR, mode, vid_files[i])\n",
    "        # determine label\n",
    "        label = label_to_dir(vid_files[i][:3])\n",
    "        # determine out path based on label\n",
    "        out_path = os.path.join(out_image_dir, label)\n",
    "\n",
    "        # read and write if video\n",
    "        cap = cv2.VideoCapture(video_path)   # capturing the video from the given path\n",
    "        frameRate = cap.get(5) #frame rate\n",
    "        # num_frames = cap.get(7)\n",
    "        every_x_image = int(frameRate/FRAMERATE)\n",
    "        print(vid_files[i], \"framerate\", cap.get(5),\"width\", cap.get(3), \"height\", cap.get(4), \"number frames:\", cap.get(7))\n",
    "        print(\"--> taking every \", every_x_image, \"th image\")\n",
    "        x=1\n",
    "        nr_selected = 0\n",
    "        while cap.isOpened() and nr_selected<MAX_FRAMES:\n",
    "            frameId = cap.get(1) #current frame number\n",
    "            ret, frame = cap.read()\n",
    "            if (ret != True):\n",
    "                break\n",
    "            if (frameId % every_x_image == 0):\n",
    "                # storing the frames in a new folder named test_1\n",
    "                filename = os.path.join(out_path, vid_files[i] +\"_frame%d.jpg\" % frameId)\n",
    "                cv2.imwrite(filename, frame)\n",
    "                nr_selected += 1\n",
    "                print(filename)\n",
    "        cap.release()"
   ]
  },
  {
   "cell_type": "markdown",
   "metadata": {},
   "source": [
    "## Previous version of video to images (no script)"
   ]
  },
  {
   "cell_type": "code",
   "execution_count": null,
   "metadata": {},
   "outputs": [],
   "source": [
    "# SET FRAMERATE\n",
    "FRAMERATE = 3 # saves automatically 2 frames per second\n",
    "MAX_FRAMES = 30"
   ]
  },
  {
   "cell_type": "code",
   "execution_count": null,
   "metadata": {
    "scrolled": true
   },
   "outputs": [],
   "source": [
    "vid_files = os.listdir(video_dir)\n",
    "for i in range(len(vid_files)):\n",
    "    \n",
    "    # skip unnecessary files\n",
    "    if vid_files[i][0]==\".\":\n",
    "        # DStore etc\n",
    "        continue\n",
    "    \n",
    "    # define video path\n",
    "    # print(\"video\", vid_files[i], \"number \",i, \"out of \", len(vid_files))\n",
    "    video_path = os.path.join(video_dir, vid_files[i])\n",
    "    \n",
    "    # determine label\n",
    "    if vid_files[i][:3]==\"Cov\":\n",
    "        label = \"covid\"\n",
    "    elif vid_files[i][:3]==\"Pne\" or vid_files[i][:3]==\"pne\":\n",
    "        label = \"pneumonia\"\n",
    "    elif vid_files[i][:3]==\"Reg\":\n",
    "        label = \"regular\"\n",
    "    else:\n",
    "        raise ValueError(\"Wrong label! \"+ vid_files[i])\n",
    "    out_path = os.path.join(out_image_dir, label)\n",
    "    \n",
    "    # copy if image\n",
    "    if vid_files[i][-3:]==\"jpg\" or vid_files[i][-3:]==\"png\":\n",
    "        shutil.copy(video_path, out_path)\n",
    "        continue\n",
    "    \n",
    "    # read and write if video\n",
    "    cap = cv2.VideoCapture(video_path)   # capturing the video from the given path\n",
    "    frameRate = cap.get(5) #frame rate\n",
    "    # num_frames = cap.get(7)\n",
    "    every_x_image = int(frameRate/FRAMERATE)\n",
    "    print(vid_files[i], \"framerate\", cap.get(5),\"width\", cap.get(3), \"height\", cap.get(4), \"number frames:\", cap.get(7))\n",
    "    print(\"--> taking every \", every_x_image, \"th image\")\n",
    "    x=1\n",
    "    nr_selected = 0\n",
    "    while cap.isOpened() and nr_selected<MAX_FRAMES:\n",
    "        frameId = cap.get(1) #current frame number\n",
    "        ret, frame = cap.read()\n",
    "        if (ret != True):\n",
    "            break\n",
    "        if (frameId % every_x_image == 0):\n",
    "            # storing the frames in a new folder named test_1\n",
    "            filename = os.path.join(out_path, vid_files[i] +\"_frame%d.jpg\" % frameId)\n",
    "            cv2.imwrite(filename, frame)\n",
    "            nr_selected += 1\n",
    "            print(filename)\n",
    "    cap.release()"
   ]
  },
  {
   "cell_type": "markdown",
   "metadata": {},
   "source": [
    "# Script to select frames manually from one video"
   ]
  },
  {
   "cell_type": "code",
   "execution_count": null,
   "metadata": {},
   "outputs": [],
   "source": [
    "# define video path (ONE VIDEO)\n",
    "video_path = \"cleaned_data_videos/cropped_data_manual/Reg-Butterfly.mp4\"\n",
    "# define where to save outputs\n",
    "out_image_dir = \"cleaned_data_images\"\n",
    "# how many frames do you want to check?\n",
    "check_every = 2 # displays every second frame\n",
    "out_name = \"Reg-Butterfly.mp4\""
   ]
  },
  {
   "cell_type": "code",
   "execution_count": null,
   "metadata": {
    "scrolled": false
   },
   "outputs": [],
   "source": [
    "# make subdirectories if they don't exist\n",
    "for mod in [\"covid\", \"pneunomia\", \"regular\"]:\n",
    "    if not os.path.exists(os.path.join(out_image_dir, mod)):\n",
    "        os.makedirs(os.path.join(out_image_dir, mod))\n",
    "\n",
    "# out_name = \"Cov-MSU-COVID Lung 2-Blines.mp4\"\n",
    "\n",
    "# determine label\n",
    "if out_name[:3]==\"Cov\":\n",
    "    label = \"covid\"\n",
    "elif out_name[:3]==\"Pne\" or vid_files[i][:3]==\"pne\":\n",
    "    label = \"pneunomia\"\n",
    "elif out_name[:3]==\"Reg\":\n",
    "    label = \"regular\"\n",
    "else:\n",
    "    raise ValueError(\"Wrong label! \"+ vid_files[i])\n",
    "# Final outpath: out directory plus the label\n",
    "out_path = os.path.join(out_image_dir, label)\n",
    "\n",
    "# read and write if frame is selected\n",
    "cap = cv2.VideoCapture(video_path)   # capturing the video from the given path\n",
    "decision=0\n",
    "n_frames = cap.get(7)\n",
    "selected_frames = []\n",
    "while cap.isOpened() and decision!=2:\n",
    "    frameId = cap.get(1) #current frame number\n",
    "    ret, frame = cap.read()\n",
    "    if (ret != True):\n",
    "        break\n",
    "    # only display every x frames (more diverse, not as much work)\n",
    "    if frameId>46 and frameId%check_every==0:\n",
    "        print(\"already selected \", len(selected_frames), \"frames\")\n",
    "        if len(selected_frames)>0:\n",
    "             print(\"last selected was frame\", selected_frames[-1])\n",
    "        # display image\n",
    "        plt.imshow(frame)\n",
    "        plt.title(\"Frame \"+str(frameId)+\" out of \"+str(n_frames))\n",
    "        plt.show()\n",
    "        decision = int(input(\"Take image? (No:0, Yes:1, Stop:2)  \"))\n",
    "        if decision==1:\n",
    "            # storing the frames in a new folder named test_1\n",
    "            filename = os.path.join(out_path, out_name +\"_frame%d.jpg\" % frameId)\n",
    "            cv2.imwrite(filename, frame)\n",
    "            selected_frames.append(frameId)\n",
    "cap.release()"
   ]
  },
  {
   "cell_type": "code",
   "execution_count": null,
   "metadata": {},
   "outputs": [],
   "source": [
    "fp = \"/Users/ninawiedemann/Desktop/Projects/covid19_pocus_ultrasound.nosync/data/pocus/cleaned_data_images_backup/covid/test\"\n",
    "img = cv."
   ]
  },
  {
   "cell_type": "markdown",
   "metadata": {},
   "source": [
    "## Automatically process videos"
   ]
  },
  {
   "cell_type": "code",
   "execution_count": null,
   "metadata": {},
   "outputs": [],
   "source": [
    "# for cv2:\n",
    "fourcc = cv2.VideoWriter_fourcc(*'XVID')\n",
    "writer = cv2.VideoWriter(\n",
    "    os.path.join(base_path, \"test.avi\"), fourcc,\n",
    "    20.0, tuple(curr_size)\n",
    ")\n",
    "for x in vid_arr:\n",
    "    writer.write(x.astype(\"uint8\"))\n",
    "writer.release()"
   ]
  },
  {
   "cell_type": "code",
   "execution_count": null,
   "metadata": {
    "scrolled": false
   },
   "outputs": [],
   "source": [
    "base_path = \"../../../data_pocovid/DATASET/bolzano.nosync/\"\n",
    "for vid in os.listdir(base_path):\n",
    "    if vid != \"VID-20200427-WA0039.mp4\": # .startswith(\".\"):\n",
    "        continue\n",
    "    # vid = \"Linee B 9 top.mp4\"\n",
    "    # print(os.listdir(base_path))\n",
    "    # print(os.path.exists(os.path.join(base_path, vid)))\n",
    "    cap = cv2.VideoCapture(os.path.join(base_path, vid))\n",
    "    arr = []\n",
    "    counter = 0\n",
    "    while True:\n",
    "        ret, frame = cap.read()\n",
    "        counter += 1\n",
    "        if not ret:\n",
    "            break\n",
    "        if counter <2:\n",
    "            plt.figure(figsize=(10,10))\n",
    "            plt.imshow(frame[120:420, 40:340]) # [90:390, 15:315]) # [130:480, 0:350]) # [40:240, 50:250])\n",
    "            plt.show()\n",
    "\n",
    "        arr.append(frame[120:420, 40:340]) # [200:1000, 750:1550])\n",
    "    vid_arr = np.asarray(arr)\n",
    "    print(vid_arr.shape)\n",
    "    # curr_size = vid_arr.shape[1:3]\n",
    "    # print(\"output video size\", curr_size)\n",
    "    io.vwrite(os.path.join(base_path, \"cropped\", \"Cov_bolzano_\"+vid.split(\".\")[0]+\".mpeg\"), vid_arr, outputdict={\"-vcodec\":\"mpeg2video\"})\n",
    "    cap.release()"
   ]
  },
  {
   "cell_type": "markdown",
   "metadata": {},
   "source": [
    "## Relevant for filling data table: Get framerate of videos"
   ]
  },
  {
   "cell_type": "code",
   "execution_count": null,
   "metadata": {
    "scrolled": true
   },
   "outputs": [],
   "source": [
    "base_path = \"/Users/ninawiedemann/Desktop/Projects/data_pocovid/DATASET/bolzano.nosync/cropped\"\n",
    "f_list = os.listdir(base_path)\n",
    "f_list = sorted([vid for vid in f_list if not vid.startswith(\".\")]) #  and \"avi\" in vid or \"jpg\" in vid])\n",
    "f_list"
   ]
  },
  {
   "cell_type": "code",
   "execution_count": null,
   "metadata": {},
   "outputs": [],
   "source": [
    "for vid in f_list:\n",
    "    # if not vid.startswith(\".\") and \"avi\" in vid or \"jpg\" in vid:\n",
    "    # print(vid)\n",
    "    # # Code to rename files\n",
    "    # new_fn = vid.replace(\",\", \"\")\n",
    "    # new_fn = new_fn.replace(\" \", \"-\")\n",
    "    # shutil.move(os.path.join(base_path, vid), os.path.join(base_path, new_fn))\n",
    "    cap = cv2.VideoCapture(os.path.join(base_path, vid))\n",
    "    print(str(int(cap.get(3)))+\"x\"+str(int(cap.get(4))))\n",
    "    # print(vid)\n",
    "    # print(int(cap.get(5)))\n",
    "    if \"avi\" in vid:\n",
    "        # print(\"pocus_videos/convex\")\n",
    "        pass # print(\"video\")\n",
    "    else:\n",
    "        pass # print(\"image\")\n",
    "        # print(\"pocus_images/convex\")\n",
    "    cap.release()"
   ]
  },
  {
   "cell_type": "code",
   "execution_count": null,
   "metadata": {},
   "outputs": [],
   "source": [
    "base_path = \"../../../data_pocovid/new_git_issues.nosync/combatting_article\"\n",
    "f_list = os.listdir(\"../../../data_pocovid/new_git_issues.nosync/combatting_article\")"
   ]
  },
  {
   "cell_type": "code",
   "execution_count": null,
   "metadata": {},
   "outputs": [],
   "source": [
    "data_table = pd.read_csv(\"../../data/pocovid_data.csv\")\n",
    "butterfly = data_table[\"Filename\"].values\n",
    "butterfly = [b for b in butterfly if \"utterfly\" in b]"
   ]
  },
  {
   "cell_type": "code",
   "execution_count": null,
   "metadata": {},
   "outputs": [],
   "source": [
    "import json\n",
    "with open(\"../../data/data_from_butterfly.json\", \"w\") as outfile:\n",
    "    json.dump(butterfly, outfile)"
   ]
  },
  {
   "cell_type": "code",
   "execution_count": null,
   "metadata": {},
   "outputs": [],
   "source": []
  },
  {
   "cell_type": "markdown",
   "metadata": {},
   "source": [
    "# Images to video"
   ]
  },
  {
   "cell_type": "code",
   "execution_count": null,
   "metadata": {},
   "outputs": [],
   "source": [
    "from skvideo import io"
   ]
  },
  {
   "cell_type": "code",
   "execution_count": null,
   "metadata": {},
   "outputs": [],
   "source": [
    "path = \"cleaned_data_videos/new_Marion/covid\"\n",
    "fn = \"Cov-Butterfly-Irregular Pleura with Multip.mp4\" # _frame0.jpg\"\n",
    "out_path = \"cleaned_data_videos/cropped_data_manual_cleaned\"\n"
   ]
  },
  {
   "cell_type": "code",
   "execution_count": null,
   "metadata": {},
   "outputs": [],
   "source": [
    "file_list = []\n",
    "for frame in os.listdir(path):\n",
    "    if frame.startswith(fn):\n",
    "        file_list.append(os.path.join(path, frame))"
   ]
  },
  {
   "cell_type": "code",
   "execution_count": null,
   "metadata": {},
   "outputs": [],
   "source": [
    "# Define the codec and create VideoWriter object\n",
    "\n",
    "arr = []\n",
    "for frame in file_list:\n",
    "    # ret, frame = cap.read()\n",
    "    arr.append(cv2.imread(frame))\n",
    "arr = np.array(arr)\n",
    "# Release everything if job is finished\n",
    "# cv2.destroyAllWindows()\n",
    "arr.shape"
   ]
  },
  {
   "cell_type": "code",
   "execution_count": null,
   "metadata": {},
   "outputs": [],
   "source": [
    "io.vwrite(os.path.join(out_path, fn[:-4]+\".mpeg\"), arr, outputdict={\"-vcodec\":\"mpeg2video\"})"
   ]
  },
  {
   "cell_type": "markdown",
   "metadata": {},
   "source": [
    "# Video dataset - Previous version"
   ]
  },
  {
   "cell_type": "code",
   "execution_count": null,
   "metadata": {},
   "outputs": [],
   "source": [
    "from tqdm import tqdm"
   ]
  },
  {
   "cell_type": "code",
   "execution_count": null,
   "metadata": {},
   "outputs": [],
   "source": [
    "import os\n",
    "path='enter your path\\'\n",
    "\n",
    "#Train\n",
    "videos_train=os.listdir(path+'train\\\\')\n",
    "train = pd.DataFrame()\n",
    "train['video_name'] = videos_train\n",
    "train = train[:-1]\n",
    "\n",
    "#Test\n",
    "videos_test=os.listdir(path+'test\\\\')\n",
    "test = pd.DataFrame()\n",
    "test['video_name'] = videos_test\n",
    "test = test[:-1]\n"
   ]
  },
  {
   "cell_type": "code",
   "execution_count": null,
   "metadata": {},
   "outputs": [],
   "source": [
    "# storing the frames from training videos\n",
    "fn = \"cleaned_data_videos/cropped_data_auto/Cov-clarius3.mp4\"\n",
    "count = 0\n",
    "cap = cv2.VideoCapture(fn)   # capturing the video from the given path\n",
    "frameRate = cap.get(5) #frame rate\n",
    "num = cap.get(7)\n",
    "x=1\n",
    "print(frameRate, num)\n",
    "\n",
    "cap.release()\n",
    "    \n"
   ]
  },
  {
   "cell_type": "code",
   "execution_count": null,
   "metadata": {},
   "outputs": [],
   "source": [
    "25 * 12"
   ]
  },
  {
   "cell_type": "code",
   "execution_count": null,
   "metadata": {},
   "outputs": [],
   "source": [
    "# storing the frames from testing videos\n",
    "for i in tqdm(range(test.shape[0])):\n",
    "    count = 0\n",
    "    videoFile = test['video_name'][i]\n",
    "    cap = cv2.VideoCapture(path+'test\\\\'+videoFile)   # capturing the video from the given path\n",
    "    frameRate = cap.get(5) #frame rate\n",
    "    x=1\n",
    "    while(cap.isOpened()):\n",
    "        frameId = cap.get(1) #current frame number\n",
    "        ret, frame = cap.read()\n",
    "        if (ret != True):\n",
    "            break\n",
    "        if (frameId % math.floor(frameRate) == 0):\n",
    "            # storing the frames in a new folder named test_1\n",
    "            filename =path+'test_1/' + videoFile +\"_frame%d.jpg\" % count;count+=1\n",
    "            cv2.imwrite(filename, frame)\n",
    "    cap.release()"
   ]
  },
  {
   "cell_type": "markdown",
   "metadata": {},
   "source": [
    "## 10 fold cross validation"
   ]
  },
  {
   "cell_type": "code",
   "execution_count": null,
   "metadata": {},
   "outputs": [],
   "source": [
    "import os\n",
    "os.listdir(\"train\")"
   ]
  },
  {
   "cell_type": "code",
   "execution_count": null,
   "metadata": {},
   "outputs": [],
   "source": [
    "os.listdir(\"test\")"
   ]
  },
  {
   "cell_type": "markdown",
   "metadata": {},
   "source": [
    "### Compute all framerates etc:"
   ]
  },
  {
   "cell_type": "code",
   "execution_count": null,
   "metadata": {},
   "outputs": [],
   "source": [
    "csv = pd.read_csv(\"../../dataset_metadata.csv\")"
   ]
  },
  {
   "cell_type": "code",
   "execution_count": null,
   "metadata": {},
   "outputs": [],
   "source": [
    "filenames = csv[\"Filename\"].values\n",
    "locations = csv[\"Current location\"].values\n",
    "prev_fr = csv[\"Length (frames)\"].values"
   ]
  },
  {
   "cell_type": "code",
   "execution_count": null,
   "metadata": {},
   "outputs": [],
   "source": [
    "base=\"../../data\""
   ]
  },
  {
   "cell_type": "code",
   "execution_count": null,
   "metadata": {},
   "outputs": [],
   "source": [
    "for fn, location, prev in zip(filenames, locations, prev_fr):\n",
    "    # print(fn, location)\n",
    "    location = location.lower()\n",
    "    if location.startswith(\"data/\"):\n",
    "        location = location[5:]\n",
    "        \n",
    "    if fn[-4:] in [\".png\", \".jpg\", \"jpeg\", \".JPG\"]:\n",
    "        print(1)\n",
    "    else:\n",
    "        if not os.path.exists(os.path.join(base, location, fn)):\n",
    "            # print(\"ERROR does not exist\", fn)\n",
    "            print(prev)\n",
    "        else:\n",
    "            cap = cv2.VideoCapture(os.path.join(base, location, fn))\n",
    "            print(round(cap.get(7)))\n",
    "            # print(str(int(cap.get(3)))+\"x\"+str(int(cap.get(4))))"
   ]
  },
  {
   "cell_type": "code",
   "execution_count": null,
   "metadata": {},
   "outputs": [],
   "source": []
  }
 ],
 "metadata": {
  "kernelspec": {
   "display_name": "Python 3",
   "language": "python",
   "name": "python3"
  },
  "language_info": {
   "codemirror_mode": {
    "name": "ipython",
    "version": 3
   },
   "file_extension": ".py",
   "mimetype": "text/x-python",
   "name": "python",
   "nbconvert_exporter": "python",
   "pygments_lexer": "ipython3",
   "version": "3.6.10"
  }
 },
 "nbformat": 4,
 "nbformat_minor": 2
}
