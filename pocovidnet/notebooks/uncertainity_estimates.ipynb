{
 "cells": [
  {
   "cell_type": "code",
   "execution_count": 103,
   "metadata": {},
   "outputs": [],
   "source": [
    "import os\n",
    "import numpy as np\n",
    "import cv2\n",
    "from imutils import paths\n",
    "from sklearn.metrics import accuracy_score\n",
    "from sklearn.metrics import classification_report, confusion_matrix\n",
    "import matplotlib.pyplot as plt\n",
    "from scipy import stats\n",
    "import pickle\n",
    "import pandas as pd\n",
    "import seaborn as sns\n",
    "from scipy.stats import pearsonr\n",
    "from sklearn.metrics import accuracy_score, balanced_accuracy_score, precision_score, recall_score"
   ]
  },
  {
   "cell_type": "code",
   "execution_count": 4,
   "metadata": {},
   "outputs": [],
   "source": [
    "from pocovidnet.evaluate_covid19 import Evaluator"
   ]
  },
  {
   "cell_type": "code",
   "execution_count": null,
   "metadata": {},
   "outputs": [],
   "source": []
  },
  {
   "cell_type": "code",
   "execution_count": null,
   "metadata": {},
   "outputs": [],
   "source": []
  },
  {
   "cell_type": "code",
   "execution_count": null,
   "metadata": {},
   "outputs": [],
   "source": []
  },
  {
   "cell_type": "code",
   "execution_count": 223,
   "metadata": {},
   "outputs": [
    {
     "name": "stdout",
     "output_type": "stream",
     "text": [
      "------------- SPLIT  0 -------------------\n",
      "Model restored. Class mappings are ['covid', 'pneunomia', 'regular', 'uninformative']\n",
      "[<tensorflow.python.keras.engine.training.Model object at 0x176da4ad0>]\n",
      "(359, 4)\n",
      "               precision    recall  f1-score   support\n",
      "\n",
      "        covid       0.87      0.85      0.86       112\n",
      "    pneumonia       0.83      0.85      0.84        85\n",
      "      regular       0.96      0.99      0.98        82\n",
      "uninformative       1.00      0.99      0.99        80\n",
      "\n",
      "     accuracy                           0.91       359\n",
      "    macro avg       0.92      0.92      0.92       359\n",
      " weighted avg       0.91      0.91      0.91       359\n",
      "\n",
      "------------- SPLIT  1 -------------------\n",
      "Model restored. Class mappings are ['covid', 'pneunomia', 'regular', 'uninformative']\n",
      "[<tensorflow.python.keras.engine.training.Model object at 0x150077a90>]\n",
      "(384, 4)\n",
      "               precision    recall  f1-score   support\n",
      "\n",
      "        covid       0.99      0.86      0.92       197\n",
      "    pneumonia       0.90      1.00      0.94        60\n",
      "      regular       0.68      0.96      0.80        47\n",
      "uninformative       1.00      0.99      0.99        80\n",
      "\n",
      "     accuracy                           0.92       384\n",
      "    macro avg       0.89      0.95      0.91       384\n",
      " weighted avg       0.94      0.92      0.92       384\n",
      "\n",
      "------------- SPLIT  2 -------------------\n",
      "Model restored. Class mappings are ['covid', 'pneunomia', 'regular', 'uninformative']\n",
      "[<tensorflow.python.keras.engine.training.Model object at 0x17c411310>]\n",
      "(332, 4)\n",
      "               precision    recall  f1-score   support\n",
      "\n",
      "        covid       0.92      0.83      0.87       122\n",
      "    pneumonia       0.94      0.97      0.95        60\n",
      "      regular       0.78      0.90      0.83        70\n",
      "uninformative       0.99      0.97      0.98        80\n",
      "\n",
      "     accuracy                           0.90       332\n",
      "    macro avg       0.90      0.92      0.91       332\n",
      " weighted avg       0.91      0.90      0.90       332\n",
      "\n",
      "------------- SPLIT  3 -------------------\n",
      "Model restored. Class mappings are ['covid', 'pneunomia', 'regular', 'uninformative']\n",
      "[<tensorflow.python.keras.engine.training.Model object at 0x14e9c3cd0>]\n",
      "(337, 4)\n",
      "               precision    recall  f1-score   support\n",
      "\n",
      "        covid       0.93      0.96      0.94       144\n",
      "    pneumonia       0.99      0.97      0.98        71\n",
      "      regular       0.84      0.76      0.80        42\n",
      "uninformative       1.00      1.00      1.00        80\n",
      "\n",
      "     accuracy                           0.95       337\n",
      "    macro avg       0.94      0.92      0.93       337\n",
      " weighted avg       0.95      0.95      0.95       337\n",
      "\n",
      "------------- SPLIT  4 -------------------\n",
      "Model restored. Class mappings are ['covid', 'pneunomia', 'regular', 'uninformative']\n",
      "[<tensorflow.python.keras.engine.training.Model object at 0x1683a1a50>]\n",
      "(353, 4)\n",
      "               precision    recall  f1-score   support\n",
      "\n",
      "        covid       0.82      0.96      0.89       118\n",
      "    pneumonia       0.97      0.91      0.94       101\n",
      "      regular       0.88      0.69      0.77        54\n",
      "uninformative       1.00      0.99      0.99        80\n",
      "\n",
      "     accuracy                           0.91       353\n",
      "    macro avg       0.92      0.89      0.90       353\n",
      " weighted avg       0.91      0.91      0.91       353\n",
      "\n"
     ]
    }
   ],
   "source": [
    "# MC Dropout\n",
    "\n",
    "passes = 10\n",
    "saved_logits, saved_gt, saved_files = [], [], []\n",
    "mc_stds = []\n",
    "for i in range(5):\n",
    "    print(\"------------- SPLIT \", i, \"-------------------\")\n",
    "    # define data input path\n",
    "    path = \"../../data/cross_validation/split\"+str(i)\n",
    "    \n",
    "    train_labels, test_labels, test_files = [], [], []\n",
    "    train_data, test_data = [], []\n",
    "\n",
    "    # loop over the image paths (train and test)\n",
    "    for imagePath in paths.list_images(path):\n",
    "\n",
    "        # extract the class label from the filename\n",
    "        label = imagePath.split(os.path.sep)[-2]\n",
    "\n",
    "        # load the image, swap color channels, and resize it to be a fixed\n",
    "        # 224x224 pixels while ignoring aspect ratio\n",
    "        image = cv2.imread(imagePath)\n",
    "        # image = cv2.cvtColor(image, cv2.COLOR_BGR2RGB)\n",
    "        # image = cv2.resize(image, (224, 224))\n",
    "\n",
    "        # update the data and labels lists, respectively\n",
    "        test_labels.append(label)\n",
    "        test_data.append(image)\n",
    "        test_files.append(imagePath.split(os.path.sep)[-1])\n",
    "\n",
    "    # build ground truth data\n",
    "    classes = [\"covid\", \"pneumonia\", \"regular\", 'uninformative']\n",
    "    gt_class_idx = np.array([classes.index(lab) for lab in test_labels])\n",
    "    \n",
    "    # load model\n",
    "    model = Evaluator(ensemble=False, split=i, model_id='vgg_base', num_classes=len(classes), mc_dropout=True)\n",
    "    print(model.models)\n",
    "    \n",
    "    # MAIN STEP: feed through model and compute logits\n",
    "    logits = np.zeros((len(test_data), len(classes)))\n",
    "    all_class_stds = np.zeros((len(test_data), len(classes)))\n",
    "    for img_idx, img in enumerate(test_data):\n",
    "        raw_logits = np.zeros((passes, len(classes)))\n",
    "        for idx in range(10):\n",
    "            raw_logits[idx, :] = model(img)\n",
    "        logits[img_idx, :] = np.mean(raw_logits, axis=0)\n",
    "        all_class_stds[img_idx, :] = np.std(raw_logits, axis=0)\n",
    "        \n",
    "            \n",
    "#     logits = np.array([model(img) for img in test_data])\n",
    "    print(logits.shape)\n",
    "    \n",
    "    # remember for evaluation:\n",
    "    saved_logits.append(logits)\n",
    "    saved_gt.append(gt_class_idx)\n",
    "    saved_files.append(test_files)\n",
    "\n",
    "    \n",
    "    # output the information\n",
    "    predIdxs = np.argmax(logits, axis=1)\n",
    "    \n",
    "    stds = np.array([all_class_stds[c, idx] for c,idx in enumerate(predIdxs)])\n",
    "    mc_stds.append(stds)\n",
    "    \n",
    "    print(\n",
    "    classification_report(\n",
    "        gt_class_idx, predIdxs, target_names=classes\n",
    "        )\n",
    "    )\n"
   ]
  },
  {
   "cell_type": "code",
   "execution_count": 93,
   "metadata": {},
   "outputs": [],
   "source": [
    "def confidence_to_precision(x):\n",
    "    return -(x-0.)/(0.5-0)+1"
   ]
  },
  {
   "cell_type": "code",
   "execution_count": 113,
   "metadata": {},
   "outputs": [],
   "source": [
    "mc_drop = np.clip(np.concatenate(mc_stds), 0, 0.5)\n",
    "gts = np.concatenate(saved_gt)\n",
    "preds = np.concatenate([np.argmax(sl, axis=1) for sl in saved_logits])\n",
    "correct = (gts == preds).astype(int)\n",
    "\n",
    "mc_precision = np.array(list(map(confidence_to_precision,mc_drop)))"
   ]
  },
  {
   "cell_type": "code",
   "execution_count": 114,
   "metadata": {},
   "outputs": [
    {
     "data": {
      "text/plain": [
       "Text(0.5, 1.0, 'MC Dropout')"
      ]
     },
     "execution_count": 114,
     "metadata": {},
     "output_type": "execute_result"
    },
    {
     "data": {
      "image/png": "[encoded data removed]",
      "text/plain": [
       "<Figure size 432x288 with 1 Axes>"
      ]
     },
     "metadata": {
      "needs_background": "light"
     },
     "output_type": "display_data"
    }
   ],
   "source": [
    "sns.kdeplot(correct, mc_precision)\n",
    "plt.xlabel('Prediction correctness')\n",
    "plt.ylabel('Model precision')\n",
    "plt.title('MC Dropout')\n"
   ]
  },
  {
   "cell_type": "code",
   "execution_count": 115,
   "metadata": {},
   "outputs": [
    {
     "data": {
      "text/plain": [
       "(0.25424626303289327, 1.937930878831481e-27)"
      ]
     },
     "execution_count": 115,
     "metadata": {},
     "output_type": "execute_result"
    }
   ],
   "source": [
    "pearsonr(mc_precision,correct)"
   ]
  },
  {
   "cell_type": "code",
   "execution_count": 129,
   "metadata": {},
   "outputs": [
    {
     "name": "stdout",
     "output_type": "stream",
     "text": [
      "0.877740376249769\n",
      "0.7355829741518711\n",
      "0.1439326481151392\n",
      "0.1962255018146544\n"
     ]
    }
   ],
   "source": [
    "correct_idx = correct.astype(bool)\n",
    "print(np.mean(mc_precision[correct_idx]))\n",
    "print(np.mean(mc_precision[~correct_idx]))\n",
    "print(np.std(mc_precision[correct_idx]))\n",
    "print(np.std(mc_precision[~correct_idx]))"
   ]
  },
  {
   "cell_type": "code",
   "execution_count": 131,
   "metadata": {},
   "outputs": [],
   "source": [
    "np.save('/Users/jab/codevscovid/covid_detector/covid19_pocus_ultrasound/analysis/mc_confidence.npy', mc_precision)"
   ]
  },
  {
   "cell_type": "code",
   "execution_count": 136,
   "metadata": {},
   "outputs": [
    {
     "name": "stdout",
     "output_type": "stream",
     "text": [
      "------------- SPLIT  0 -------------------\n",
      "Model restored. Class mappings are ['covid', 'pneunomia', 'regular', 'uninformative']\n",
      "[<tensorflow.python.keras.engine.training.Model object at 0x17c67ecd0>]\n",
      "(359, 4)\n",
      "               precision    recall  f1-score   support\n",
      "\n",
      "        covid       0.94      0.96      0.95       112\n",
      "    pneumonia       0.95      0.92      0.93        85\n",
      "      regular       0.99      0.99      0.99        82\n",
      "uninformative       1.00      1.00      1.00        80\n",
      "\n",
      "     accuracy                           0.97       359\n",
      "    macro avg       0.97      0.97      0.97       359\n",
      " weighted avg       0.97      0.97      0.97       359\n",
      "\n",
      "------------- SPLIT  1 -------------------\n",
      "Model restored. Class mappings are ['covid', 'pneunomia', 'regular', 'uninformative']\n",
      "[<tensorflow.python.keras.engine.training.Model object at 0x15b868390>]\n",
      "(384, 4)\n",
      "               precision    recall  f1-score   support\n",
      "\n",
      "        covid       0.96      0.85      0.90       197\n",
      "    pneumonia       0.92      1.00      0.96        60\n",
      "      regular       0.62      0.85      0.72        47\n",
      "uninformative       1.00      1.00      1.00        80\n",
      "\n",
      "     accuracy                           0.91       384\n",
      "    macro avg       0.88      0.93      0.90       384\n",
      " weighted avg       0.92      0.91      0.91       384\n",
      "\n",
      "------------- SPLIT  2 -------------------\n",
      "Model restored. Class mappings are ['covid', 'pneunomia', 'regular', 'uninformative']\n",
      "[<tensorflow.python.keras.engine.training.Model object at 0x1b81d3790>]\n",
      "(332, 4)\n",
      "               precision    recall  f1-score   support\n",
      "\n",
      "        covid       0.67      0.86      0.76       122\n",
      "    pneumonia       0.87      0.57      0.69        60\n",
      "      regular       0.77      0.63      0.69        70\n",
      "uninformative       0.99      0.99      0.99        80\n",
      "\n",
      "     accuracy                           0.79       332\n",
      "    macro avg       0.83      0.76      0.78       332\n",
      " weighted avg       0.81      0.79      0.79       332\n",
      "\n",
      "------------- SPLIT  3 -------------------\n",
      "Model restored. Class mappings are ['covid', 'pneunomia', 'regular', 'uninformative']\n",
      "[<tensorflow.python.keras.engine.training.Model object at 0x14a2c4790>]\n",
      "(337, 4)\n",
      "               precision    recall  f1-score   support\n",
      "\n",
      "        covid       0.91      0.95      0.93       144\n",
      "    pneumonia       0.99      0.97      0.98        71\n",
      "      regular       0.81      0.71      0.76        42\n",
      "uninformative       1.00      1.00      1.00        80\n",
      "\n",
      "     accuracy                           0.94       337\n",
      "    macro avg       0.93      0.91      0.92       337\n",
      " weighted avg       0.94      0.94      0.94       337\n",
      "\n",
      "------------- SPLIT  4 -------------------\n",
      "Model restored. Class mappings are ['covid', 'pneunomia', 'regular', 'uninformative']\n",
      "[<tensorflow.python.keras.engine.training.Model object at 0x15b4f6c10>]\n",
      "(353, 4)\n",
      "               precision    recall  f1-score   support\n",
      "\n",
      "        covid       0.72      0.92      0.80       118\n",
      "    pneumonia       0.97      0.73      0.84       101\n",
      "      regular       0.81      0.70      0.75        54\n",
      "uninformative       1.00      0.99      0.99        80\n",
      "\n",
      "     accuracy                           0.85       353\n",
      "    macro avg       0.87      0.83      0.85       353\n",
      " weighted avg       0.87      0.85      0.85       353\n",
      "\n"
     ]
    }
   ],
   "source": [
    "# Test time augmentation\n",
    "\n",
    "passes = 10\n",
    "saved_logits_tta, saved_gt, saved_files = [], [], []\n",
    "mc_stds = []\n",
    "for i in range(5):\n",
    "    print(\"------------- SPLIT \", i, \"-------------------\")\n",
    "    # define data input path\n",
    "    path = \"../../data/cross_validation/split\"+str(i)\n",
    "    \n",
    "    train_labels, test_labels, test_files = [], [], []\n",
    "    train_data, test_data = [], []\n",
    "\n",
    "    # loop over the image paths (train and test)\n",
    "    for imagePath in paths.list_images(path):\n",
    "\n",
    "        # extract the class label from the filename\n",
    "        label = imagePath.split(os.path.sep)[-2]\n",
    "\n",
    "        # load the image, swap color channels, and resize it to be a fixed\n",
    "        # 224x224 pixels while ignoring aspect ratio\n",
    "        image = cv2.imread(imagePath)\n",
    "        # image = cv2.cvtColor(image, cv2.COLOR_BGR2RGB)\n",
    "        # image = cv2.resize(image, (224, 224))\n",
    "\n",
    "        # update the data and labels lists, respectively\n",
    "        test_labels.append(label)\n",
    "        test_data.append(image)\n",
    "        test_files.append(imagePath.split(os.path.sep)[-1])\n",
    "\n",
    "    # build ground truth data\n",
    "    classes = [\"covid\", \"pneumonia\", \"regular\", 'uninformative']\n",
    "    gt_class_idx = np.array([classes.index(lab) for lab in test_labels])\n",
    "    \n",
    "    # load model\n",
    "    model = Evaluator(ensemble=False, split=i, model_id='vgg_base', num_classes=len(classes), mc_dropout=False)\n",
    "    print(model.models)\n",
    "    \n",
    "    # MAIN STEP: feed through model and compute logits\n",
    "    logits = np.zeros((len(test_data), len(classes)))\n",
    "    all_class_stds = np.zeros((len(test_data), len(classes)))\n",
    "    for img_idx, img in enumerate(test_data):\n",
    "        raw_logits = np.zeros((passes, len(classes)))\n",
    "        for idx in range(10):\n",
    "            raw_logits[idx, :] = model(img, augment=True)\n",
    "        logits[img_idx, :] = np.mean(raw_logits, axis=0)\n",
    "        all_class_stds[img_idx, :] = np.std(raw_logits, axis=0)\n",
    "        \n",
    "            \n",
    "#     logits = np.array([model(img) for img in test_data])\n",
    "    print(logits.shape)\n",
    "    \n",
    "    # remember for evaluation:\n",
    "    saved_logits_tta.append(logits)\n",
    "    saved_gt.append(gt_class_idx)\n",
    "    saved_files.append(test_files)\n",
    "\n",
    "    \n",
    "    # output the information\n",
    "    predIdxs = np.argmax(logits, axis=1)\n",
    "    \n",
    "    stds = np.array([all_class_stds[c, idx] for c,idx in enumerate(predIdxs)])\n",
    "    mc_stds.append(stds)\n",
    "    \n",
    "    print(\n",
    "    classification_report(\n",
    "        gt_class_idx, predIdxs, target_names=classes\n",
    "        )\n",
    "    )\n"
   ]
  },
  {
   "cell_type": "code",
   "execution_count": 203,
   "metadata": {},
   "outputs": [],
   "source": [
    "from collections import Counter\n",
    "gts = np.concatenate(saved_gt)\n",
    "\n",
    "preds = np.concatenate([np.argmax(sl, axis=1) for sl in saved_logits_tta])\n",
    "# preds = np.array([pred for gt,pred in zip(gts,preds) if gt!=3])\n",
    "\n",
    "ttas = np.clip(np.concatenate(mc_stds), 0, 0.5)\n",
    "# ttas = np.array([tta for gt,tta in zip(gts,ttas) if gt!=3])\n",
    "\n",
    "tta_precision = np.array(list(map(confidence_to_precision,ttas)))\n",
    "# gts = np.array([gt for gt in gts if gt !=3])\n",
    "\n",
    "correct = (gts == preds).astype(int)\n",
    "\n"
   ]
  },
  {
   "cell_type": "code",
   "execution_count": 204,
   "metadata": {},
   "outputs": [
    {
     "data": {
      "text/plain": [
       "Text(0.5, 1.0, 'Test time augmentation')"
      ]
     },
     "execution_count": 204,
     "metadata": {},
     "output_type": "execute_result"
    },
    {
     "data": {
      "image/png": "[encoded data removed]",
      "text/plain": [
       "<Figure size 432x288 with 1 Axes>"
      ]
     },
     "metadata": {
      "needs_background": "light"
     },
     "output_type": "display_data"
    }
   ],
   "source": [
    "sns.kdeplot(correct, tta_precision)\n",
    "plt.xlabel('Prediction correctness')\n",
    "plt.ylabel('Model precision')\n",
    "plt.title('Test time augmentation')\n"
   ]
  },
  {
   "cell_type": "code",
   "execution_count": 213,
   "metadata": {},
   "outputs": [
    {
     "data": {
      "text/plain": [
       "(0.4115532607096564, 4.1508125942505177e-73)"
      ]
     },
     "execution_count": 213,
     "metadata": {},
     "output_type": "execute_result"
    }
   ],
   "source": [
    "pearsonr(tta_precision,correct)"
   ]
  },
  {
   "cell_type": "code",
   "execution_count": 214,
   "metadata": {},
   "outputs": [
    {
     "data": {
      "text/plain": [
       "(0.287637983116663, 5.703629789736473e-35)"
      ]
     },
     "execution_count": 214,
     "metadata": {},
     "output_type": "execute_result"
    }
   ],
   "source": [
    "pearsonr(mc_precision,correct)"
   ]
  },
  {
   "cell_type": "code",
   "execution_count": 215,
   "metadata": {},
   "outputs": [
    {
     "data": {
      "text/plain": [
       "(0.5224457774194512, 3.3820932282124883e-124)"
      ]
     },
     "execution_count": 215,
     "metadata": {},
     "output_type": "execute_result"
    }
   ],
   "source": [
    "pearsonr(tta_precision,mc_precision)"
   ]
  },
  {
   "cell_type": "code",
   "execution_count": 216,
   "metadata": {},
   "outputs": [
    {
     "name": "stdout",
     "output_type": "stream",
     "text": [
      "0.7524914023823827\n",
      "0.2672991290722443\n",
      "0.33310918416226326\n",
      "0.3527499573591399\n"
     ]
    },
    {
     "data": {
      "text/plain": [
       "0.6994363832612174"
      ]
     },
     "execution_count": 216,
     "metadata": {},
     "output_type": "execute_result"
    }
   ],
   "source": [
    "correct_idx = correct.astype(bool)\n",
    "print(np.mean(tta_precision[correct_idx]))\n",
    "print(np.mean(tta_precision[~correct_idx]))\n",
    "print(np.std(tta_precision[correct_idx]))\n",
    "print(np.std(tta_precision[~correct_idx]))\n",
    "np.mean(tta_precision)"
   ]
  },
  {
   "cell_type": "code",
   "execution_count": 217,
   "metadata": {},
   "outputs": [
    {
     "name": "stdout",
     "output_type": "stream",
     "text": [
      "0.8815039303084143\n",
      "0.7395471758016691\n",
      "0.14358148555789807\n",
      "0.17626614934737098\n"
     ]
    },
    {
     "data": {
      "text/plain": [
       "0.8659811803821811"
      ]
     },
     "execution_count": 217,
     "metadata": {},
     "output_type": "execute_result"
    }
   ],
   "source": [
    "correct_idx = correct.astype(bool)\n",
    "print(np.mean(mc_precision[correct_idx]))\n",
    "print(np.mean(mc_precision[~correct_idx]))\n",
    "print(np.std(mc_precision[correct_idx]))\n",
    "print(np.std(mc_precision[~correct_idx]))\n",
    "np.mean(mc_precision)"
   ]
  },
  {
   "cell_type": "code",
   "execution_count": 220,
   "metadata": {},
   "outputs": [
    {
     "name": "stdout",
     "output_type": "stream",
     "text": [
      "0.8169976663453985\n",
      "0.5034231524369566\n",
      "0.2101490359665522\n",
      "0.2275750846374994\n"
     ]
    },
    {
     "data": {
      "text/plain": [
       "0.7827087818216991"
      ]
     },
     "execution_count": 220,
     "metadata": {},
     "output_type": "execute_result"
    }
   ],
   "source": [
    "conf_mean = np.mean([mc_precision, tta_precision],axis=0)\n",
    "print(np.mean(conf_mean[correct_idx]))\n",
    "print(np.mean(conf_mean[~correct_idx]))\n",
    "print(np.std(conf_mean[correct_idx]))\n",
    "print(np.std(conf_mean[~correct_idx]))\n",
    "np.mean(conf_mean)"
   ]
  },
  {
   "cell_type": "code",
   "execution_count": 218,
   "metadata": {},
   "outputs": [],
   "source": [
    "data = np.array([correct, mc_precision, tta_precision])"
   ]
  },
  {
   "cell_type": "code",
   "execution_count": 156,
   "metadata": {},
   "outputs": [
    {
     "data": {
      "text/html": [
       "<div>\n",
       "<style scoped>\n",
       "    .dataframe tbody tr th:only-of-type {\n",
       "        vertical-align: middle;\n",
       "    }\n",
       "\n",
       "    .dataframe tbody tr th {\n",
       "        vertical-align: top;\n",
       "    }\n",
       "\n",
       "    .dataframe thead th {\n",
       "        text-align: right;\n",
       "    }\n",
       "</style>\n",
       "<table border=\"1\" class=\"dataframe\">\n",
       "  <thead>\n",
       "    <tr style=\"text-align: right;\">\n",
       "      <th></th>\n",
       "      <th>0</th>\n",
       "      <th>1</th>\n",
       "      <th>2</th>\n",
       "    </tr>\n",
       "  </thead>\n",
       "  <tbody>\n",
       "    <tr>\n",
       "      <th>0</th>\n",
       "      <td>1.000000</td>\n",
       "      <td>0.287638</td>\n",
       "      <td>0.411553</td>\n",
       "    </tr>\n",
       "    <tr>\n",
       "      <th>1</th>\n",
       "      <td>0.287638</td>\n",
       "      <td>1.000000</td>\n",
       "      <td>0.522446</td>\n",
       "    </tr>\n",
       "    <tr>\n",
       "      <th>2</th>\n",
       "      <td>0.411553</td>\n",
       "      <td>0.522446</td>\n",
       "      <td>1.000000</td>\n",
       "    </tr>\n",
       "  </tbody>\n",
       "</table>\n",
       "</div>"
      ],
      "text/plain": [
       "          0         1         2\n",
       "0  1.000000  0.287638  0.411553\n",
       "1  0.287638  1.000000  0.522446\n",
       "2  0.411553  0.522446  1.000000"
      ]
     },
     "execution_count": 156,
     "metadata": {},
     "output_type": "execute_result"
    }
   ],
   "source": [
    "pd.DataFrame(data).T.corr()"
   ]
  },
  {
   "cell_type": "code",
   "execution_count": 159,
   "metadata": {},
   "outputs": [],
   "source": [
    "filtered_preds = []\n",
    "filtered_gt = []\n",
    "\n",
    "for pred, gt, tta in zip(preds, gts, tta_precision):\n",
    "    if tta > 0.5:\n",
    "        filtered_preds.append(pred)\n",
    "        filtered_gt.append(gt)\n"
   ]
  },
  {
   "cell_type": "code",
   "execution_count": 163,
   "metadata": {},
   "outputs": [],
   "source": [
    "report = classification_report(\n",
    "    gts, preds, target_names=classes, output_dict=True\n",
    "    )"
   ]
  },
  {
   "cell_type": "code",
   "execution_count": 169,
   "metadata": {},
   "outputs": [
    {
     "name": "stdout",
     "output_type": "stream",
     "text": [
      "covid {'precision': 0.8380187416331994, 'recall': 0.9033189033189033, 'f1-score': 0.8694444444444444, 'support': 693}\n",
      "pneumonia {'precision': 0.9487951807228916, 'recall': 0.8355437665782494, 'f1-score': 0.8885754583921015, 'support': 377}\n",
      "regular {'precision': 0.8118466898954704, 'recall': 0.7898305084745763, 'f1-score': 0.8006872852233677, 'support': 295}\n",
      "uninformative {'precision': 0.9974937343358395, 'recall': 0.995, 'f1-score': 0.9962453066332916, 'support': 400}\n",
      "accuracy 0.8906515580736544\n",
      "macro avg {'precision': 0.8990385866468502, 'recall': 0.8809232945929322, 'f1-score': 0.8887381236733013, 'support': 1765}\n",
      "weighted avg {'precision': 0.8934476137891428, 'recall': 0.8906515580736544, 'f1-score': 0.8907755351886869, 'support': 1765}\n"
     ]
    }
   ],
   "source": [
    "for key, value in report.items():\n",
    "    print(key, value)"
   ]
  },
  {
   "cell_type": "code",
   "execution_count": 170,
   "metadata": {},
   "outputs": [],
   "source": [
    "report = classification_report(\n",
    "    filtered_gt, filtered_preds, target_names=classes, output_dict=True\n",
    "    )"
   ]
  },
  {
   "cell_type": "code",
   "execution_count": 189,
   "metadata": {},
   "outputs": [
    {
     "name": "stdout",
     "output_type": "stream",
     "text": [
      "1765  out of  1765\n",
      "covid {'precision': 0.8380187416331994, 'recall': 0.9033189033189033, 'f1-score': 0.8694444444444444, 'support': 693}\n",
      "pneumonia {'precision': 0.9487951807228916, 'recall': 0.8355437665782494, 'f1-score': 0.8885754583921015, 'support': 377}\n",
      "regular {'precision': 0.8118466898954704, 'recall': 0.7898305084745763, 'f1-score': 0.8006872852233677, 'support': 295}\n",
      "uninformative {'precision': 0.9974937343358395, 'recall': 0.995, 'f1-score': 0.9962453066332916, 'support': 400}\n",
      "accuracy 0.8906515580736544\n",
      "macro avg {'precision': 0.8990385866468502, 'recall': 0.8809232945929322, 'f1-score': 0.8887381236733013, 'support': 1765}\n",
      "weighted avg {'precision': 0.8934476137891428, 'recall': 0.8906515580736544, 'f1-score': 0.8907755351886869, 'support': 1765}\n"
     ]
    }
   ],
   "source": [
    "thresh=-1\n",
    "filtered_preds = []\n",
    "filtered_gt = []\n",
    "\n",
    "for pred, gt, tta in zip(preds, gts, tta_precision):\n",
    "    if tta > thresh:\n",
    "        filtered_preds.append(pred)\n",
    "        filtered_gt.append(gt)\n",
    "print(len(filtered_preds), ' out of ', len(preds))\n",
    "report = classification_report(\n",
    "    filtered_gt, filtered_preds, target_names=classes, output_dict=True\n",
    "    )\n",
    "\n",
    "for key, value in report.items():\n",
    "    print(key, value)"
   ]
  },
  {
   "cell_type": "code",
   "execution_count": 225,
   "metadata": {},
   "outputs": [],
   "source": [
    "a=np.array([3])\n",
    "b=np.array([1,2])\n"
   ]
  },
  {
   "cell_type": "code",
   "execution_count": 236,
   "metadata": {},
   "outputs": [],
   "source": [
    "import glob"
   ]
  },
  {
   "cell_type": "code",
   "execution_count": 237,
   "metadata": {},
   "outputs": [
    {
     "name": "stdout",
     "output_type": "stream",
     "text": [
      "../\n"
     ]
    }
   ],
   "source": [
    "for filename in glob.glob('../'):\n",
    "    print(filename)"
   ]
  },
  {
   "cell_type": "code",
   "execution_count": 247,
   "metadata": {},
   "outputs": [
    {
     "name": "stdout",
     "output_type": "stream",
     "text": [
      "../bin/covidnet.sh\n",
      "../bin/run_cross_val.sh\n",
      "../bin/output\n",
      "../bin/run_cv_efficientnet.sh\n",
      "../models/.DS_Store\n",
      "../models/NasNet_F\n",
      "../models/NasNet_B\n",
      "../models/deprecated\n",
      "../trained_models/fold_4\n",
      "../trained_models/fold_3\n",
      "../trained_models/fold_2\n",
      "../trained_models/.DS_Store\n",
      "../trained_models/org\n",
      "../trained_models/README.md\n",
      "../trained_models/fold_0\n",
      "../trained_models/fold_1\n",
      "../trained_models/trained_models_gradcam\n",
      "../trained_models/git_models\n",
      "../trained_models/trained_models_cam\n",
      "../pocovidnet.egg-info/PKG-INFO\n",
      "../pocovidnet.egg-info/not-zip-safe\n",
      "../pocovidnet.egg-info/SOURCES.txt\n",
      "../pocovidnet.egg-info/requires.txt\n",
      "../pocovidnet.egg-info/top_level.txt\n",
      "../pocovidnet.egg-info/dependency_links.txt\n",
      "../scripts/cross_val_splitter.py\n",
      "../scripts/add_uninformative_class.py\n",
      "../scripts/build_image_dataset.py\n",
      "../scripts/video_classification.py\n",
      "../scripts/__pycache__\n",
      "../scripts/train_covid19.py\n",
      "../scripts/eval_vid_classifier.py\n",
      "../scripts/process_butterfly_videos.py\n",
      "../scripts/process_butterfly_data.py\n",
      "../.ipynb_checkpoints/crossval_evaluate-checkpoint.ipynb\n",
      "../pocovidnet/statistical_tests.py\n",
      "../pocovidnet/.DS_Store\n",
      "../pocovidnet/video_model.py\n",
      "../pocovidnet/__init__.py\n",
      "../pocovidnet/grad_cam.py\n",
      "../pocovidnet/__pycache__\n",
      "../pocovidnet/cam.py\n",
      "../pocovidnet/unet3d_genesis.py\n",
      "../pocovidnet/evaluate_video.py\n",
      "../pocovidnet/model.py\n",
      "../pocovidnet/evaluate_covid19.py\n",
      "../pocovidnet/utils_butterfly_data.py\n",
      "../pocovidnet/utils.py\n",
      "../pocovidnet/app.py\n",
      "../pocovidnet/videoto3d.py\n",
      "../pocovidnet/layers.py\n",
      "../pocovidnet/evaluate_genesis.py\n",
      "../notebooks/uncertainity_estimates.ipynb\n",
      "../notebooks/.DS_Store\n",
      "../notebooks/VideosToImages.ipynb\n",
      "../notebooks/video_classifier.ipynb\n",
      "../notebooks/video_script.ipynb\n",
      "../notebooks/test_z0.4_hw_0.4_class_1_mid_0.png\n",
      "../notebooks/eval_cams.ipynb\n",
      "../notebooks/cross_validation.ipynb\n",
      "../notebooks/class_activation_maps.ipynb\n",
      "../notebooks/.ipynb_checkpoints\n",
      "../notebooks/t.npz\n",
      "../notebooks/uninformative_class.ipynb\n",
      "../notebooks/crossval_evaluate.ipynb\n",
      "../notebooks/heatmap.ipynb\n",
      "../plots/confusion_matrix.png\n",
      "../plots/overview 2.pdf\n",
      "../plots/vgg.pdf\n",
      "../plots/pocovidscreen.png\n",
      "../plots/.DS_Store\n",
      "../plots/Example_Boxplot.svg\n",
      "../plots/overview.pdf\n",
      "../plots/overview.png\n",
      "../plots/result_table.png\n",
      "../plots/roc_curve.png\n",
      "../plots/raw_for_overview\n",
      "../plots/conv3.pdf\n",
      "../plots/genesis.pdf\n",
      "../plots/pocus_covid_data_arxiv.pdf\n",
      "../plots/pitch.png\n"
     ]
    }
   ],
   "source": [
    "from pathlib import Path\n",
    "\n",
    "for p in Path('../').glob('*/*'):\n",
    "    print(p)"
   ]
  },
  {
   "cell_type": "code",
   "execution_count": 256,
   "metadata": {},
   "outputs": [
    {
     "name": "stdout",
     "output_type": "stream",
     "text": [
      "VideosToImages.ipynb               t.npz\r\n",
      "class_activation_maps.ipynb        test_z0.4_hw_0.4_class_1_mid_0.png\r\n",
      "cross_validation.ipynb             uncertainity_estimates.ipynb\r\n",
      "crossval_evaluate.ipynb            uninformative_class.ipynb\r\n",
      "eval_cams.ipynb                    video_classifier.ipynb\r\n",
      "heatmap.ipynb                      video_script.ipynb\r\n"
     ]
    }
   ],
   "source": [
    "!ls"
   ]
  },
  {
   "cell_type": "code",
   "execution_count": null,
   "metadata": {},
   "outputs": [],
   "source": []
  },
  {
   "cell_type": "code",
   "execution_count": 433,
   "metadata": {},
   "outputs": [
    {
     "data": {
      "text/plain": [
       "array([1, 2, 3])"
      ]
     },
     "execution_count": 433,
     "metadata": {},
     "output_type": "execute_result"
    }
   ],
   "source": [
    "np.concatenate([np.array([1,2,3])])"
   ]
  },
  {
   "cell_type": "code",
   "execution_count": 265,
   "metadata": {},
   "outputs": [],
   "source": [
    "p = '/Users/jab/codevscovid/covid_detector/covid19_pocus_ultrasound/data/cv_iclus/split0/covid/Cov-Atlas-Day+2.gif_frame9.jpg.npz'\n",
    "\n",
    "d = np.load(p)\n",
    "\n"
   ]
  },
  {
   "cell_type": "code",
   "execution_count": null,
   "metadata": {},
   "outputs": [],
   "source": []
  },
  {
   "cell_type": "code",
   "execution_count": 362,
   "metadata": {},
   "outputs": [
    {
     "name": "stdout",
     "output_type": "stream",
     "text": [
      "f1 (1, 10, 13, 64)\n",
      "\n",
      "f2 (1, 7, 9, 256)\n",
      "\n",
      "f3 (1, 25, 33, 320)\n",
      "\n",
      "(25, 33, 320)\n",
      "(9, 7, 320)\n"
     ]
    }
   ],
   "source": [
    "for k in d.keys():\n",
    "    print(k,d[k].shape)\n",
    "    print()\n",
    "    \n",
    "print(d['f3'][0,:,:,:].shape)\n",
    "f3 = cv2.resize(d['f3'][0,:,:,:], (7,9))\n",
    "print(f3.shape)"
   ]
  },
  {
   "cell_type": "code",
   "execution_count": 363,
   "metadata": {},
   "outputs": [
    {
     "data": {
      "text/plain": [
       "<matplotlib.image.AxesImage at 0x179ea0e90>"
      ]
     },
     "execution_count": 363,
     "metadata": {},
     "output_type": "execute_result"
    },
    {
     "data": {
      "image/png": "[encoded data removed]",
      "text/plain": [
       "<Figure size 432x288 with 1 Axes>"
      ]
     },
     "metadata": {
      "needs_background": "light"
     },
     "output_type": "display_data"
    }
   ],
   "source": [
    "plt.imshow(f3[:,:,32])"
   ]
  },
  {
   "cell_type": "code",
   "execution_count": 308,
   "metadata": {},
   "outputs": [
    {
     "data": {
      "text/plain": [
       "<matplotlib.image.AxesImage at 0x18303d450>"
      ]
     },
     "execution_count": 308,
     "metadata": {},
     "output_type": "execute_result"
    },
    {
     "data": {
      "image/png": "[encoded data removed]",
      "text/plain": [
       "<Figure size 432x288 with 1 Axes>"
      ]
     },
     "metadata": {
      "needs_background": "light"
     },
     "output_type": "display_data"
    }
   ],
   "source": [
    "p = '/Users/jab/codevscovid/covid_detector/iclus_model/Outputs/split4/pneumonia/pneu-gred-6.gif_frame8.jpg.gif'\n",
    "cap = cv2.VideoCapture(p)\n",
    "\n",
    "ret, image = cap.read()\n",
    "plt.imshow(image)\n"
   ]
  },
  {
   "cell_type": "code",
   "execution_count": 310,
   "metadata": {},
   "outputs": [
    {
     "data": {
      "text/plain": [
       "(224, 224, 3)"
      ]
     },
     "execution_count": 310,
     "metadata": {},
     "output_type": "execute_result"
    }
   ],
   "source": [
    "image.shape\n",
    "ref = cv2.cvtColor(image, cv2.COLOR_BGR2RGB)\n",
    "ref = cv2.resize(image, (224,224))\n",
    "ref.shape"
   ]
  },
  {
   "cell_type": "code",
   "execution_count": 312,
   "metadata": {},
   "outputs": [
    {
     "data": {
      "text/plain": [
       "<matplotlib.image.AxesImage at 0x14f76d610>"
      ]
     },
     "execution_count": 312,
     "metadata": {},
     "output_type": "execute_result"
    },
    {
     "data": {
      "image/png": "[encoded data removed]",
      "text/plain": [
       "<Figure size 432x288 with 1 Axes>"
      ]
     },
     "metadata": {
      "needs_background": "light"
     },
     "output_type": "display_data"
    }
   ],
   "source": [
    "plt.imshow(ref)"
   ]
  },
  {
   "cell_type": "code",
   "execution_count": 324,
   "metadata": {},
   "outputs": [
    {
     "data": {
      "text/plain": [
       "array([[103, 103, 103, 113, 120, 135, 135, 135, 135, 138],\n",
       "       [103, 103, 103, 103, 120, 135, 135, 135, 135, 135],\n",
       "       [103, 103, 120, 120, 135, 135, 135, 135, 135, 135],\n",
       "       [103, 120, 120, 120, 135, 135, 135, 135, 145, 153],\n",
       "       [103, 103, 103, 103, 120, 113, 120, 120, 120, 138],\n",
       "       [ 98, 103, 103, 103, 120, 125, 125, 115, 120, 123],\n",
       "       [ 89,  89,  89, 103, 103, 120, 120, 120, 120, 120],\n",
       "       [ 89,  89, 103, 103, 103, 103, 103, 113, 103, 118],\n",
       "       [ 81,  89,  89, 103, 103, 103, 103, 103, 103, 115],\n",
       "       [ 89,  89,  89,  89, 103, 100, 103, 103, 103, 107]], dtype=uint8)"
      ]
     },
     "execution_count": 324,
     "metadata": {},
     "output_type": "execute_result"
    }
   ],
   "source": [
    "ref[160:170, 100:110,0]"
   ]
  },
  {
   "cell_type": "code",
   "execution_count": 313,
   "metadata": {},
   "outputs": [],
   "source": [
    "imagePath = '/Users/jab/codevscovid/covid_detector/covid19_pocus_ultrasound/data/cross_validation/split1/pneumonia/Pneu-grep-bacterial-hepatization-clinical.mp4_frame8.jpg'\n",
    "\n",
    "\n",
    "image = cv2.imread(imagePath)\n",
    "image = cv2.cvtColor(image, cv2.COLOR_BGR2RGB)\n",
    "image = cv2.resize(image, (224,224))"
   ]
  },
  {
   "cell_type": "code",
   "execution_count": 315,
   "metadata": {},
   "outputs": [
    {
     "data": {
      "text/plain": [
       "<matplotlib.image.AxesImage at 0x162dc5090>"
      ]
     },
     "execution_count": 315,
     "metadata": {},
     "output_type": "execute_result"
    },
    {
     "data": {
      "image/png": "[encoded data removed]",
      "text/plain": [
       "<Figure size 432x288 with 1 Axes>"
      ]
     },
     "metadata": {
      "needs_background": "light"
     },
     "output_type": "display_data"
    }
   ],
   "source": [
    "plt.imshow(image)"
   ]
  },
  {
   "cell_type": "code",
   "execution_count": 325,
   "metadata": {},
   "outputs": [],
   "source": [
    "from imutils import paths"
   ]
  },
  {
   "cell_type": "code",
   "execution_count": 328,
   "metadata": {},
   "outputs": [
    {
     "name": "stdout",
     "output_type": "stream",
     "text": [
      "Help on function list_files in module imutils.paths:\n",
      "\n",
      "list_files(basePath, validExts=None, contains=None)\n",
      "\n"
     ]
    }
   ],
   "source": [
    "help(paths.list_files)"
   ]
  },
  {
   "cell_type": "code",
   "execution_count": null,
   "metadata": {},
   "outputs": [],
   "source": []
  },
  {
   "cell_type": "code",
   "execution_count": 439,
   "metadata": {},
   "outputs": [
    {
     "data": {
      "text/plain": [
       "0.9291280000000001"
      ]
     },
     "execution_count": 439,
     "metadata": {},
     "output_type": "execute_result"
    }
   ],
   "source": [
    "np.mean([0.92045,\n",
    "0.95833,\n",
    "0.88415,\n",
    "0.91964,\n",
    "0.96307])"
   ]
  },
  {
   "cell_type": "code",
   "execution_count": 1,
   "metadata": {},
   "outputs": [
    {
     "ename": "FileNotFoundError",
     "evalue": "[Errno 2] File /Users/jab/codevscovid/covid_detector/XX/results_segmented.csv does not exist: '/Users/jab/codevscovid/covid_detector/XX/results_segmented.csv'",
     "output_type": "error",
     "traceback": [
      "\u001b[0;31m---------------------------------------------------------------------------\u001b[0m",
      "\u001b[0;31mFileNotFoundError\u001b[0m                         Traceback (most recent call last)",
      "\u001b[0;32m<ipython-input-1-4728bba01449>\u001b[0m in \u001b[0;36m<module>\u001b[0;34m\u001b[0m\n\u001b[1;32m      1\u001b[0m \u001b[0;32mimport\u001b[0m \u001b[0mpandas\u001b[0m \u001b[0;32mas\u001b[0m \u001b[0mpd\u001b[0m\u001b[0;34m\u001b[0m\u001b[0;34m\u001b[0m\u001b[0m\n\u001b[1;32m      2\u001b[0m \u001b[0;34m\u001b[0m\u001b[0m\n\u001b[0;32m----> 3\u001b[0;31m \u001b[0mdf\u001b[0m \u001b[0;34m=\u001b[0m \u001b[0mpd\u001b[0m\u001b[0;34m.\u001b[0m\u001b[0mread_csv\u001b[0m\u001b[0;34m(\u001b[0m\u001b[0;34m'/Users/jab/codevscovid/covid_detector/XX/results_segmented.csv'\u001b[0m\u001b[0;34m)\u001b[0m\u001b[0;34m\u001b[0m\u001b[0;34m\u001b[0m\u001b[0m\n\u001b[0m\u001b[1;32m      4\u001b[0m \u001b[0;34m\u001b[0m\u001b[0m\n\u001b[1;32m      5\u001b[0m \u001b[0mdf\u001b[0m\u001b[0;34m\u001b[0m\u001b[0;34m\u001b[0m\u001b[0m\n",
      "\u001b[0;32m~/miniconda3/envs/codevscovid/lib/python3.7/site-packages/pandas/io/parsers.py\u001b[0m in \u001b[0;36mparser_f\u001b[0;34m(filepath_or_buffer, sep, delimiter, header, names, index_col, usecols, squeeze, prefix, mangle_dupe_cols, dtype, engine, converters, true_values, false_values, skipinitialspace, skiprows, skipfooter, nrows, na_values, keep_default_na, na_filter, verbose, skip_blank_lines, parse_dates, infer_datetime_format, keep_date_col, date_parser, dayfirst, cache_dates, iterator, chunksize, compression, thousands, decimal, lineterminator, quotechar, quoting, doublequote, escapechar, comment, encoding, dialect, error_bad_lines, warn_bad_lines, delim_whitespace, low_memory, memory_map, float_precision)\u001b[0m\n\u001b[1;32m    674\u001b[0m         )\n\u001b[1;32m    675\u001b[0m \u001b[0;34m\u001b[0m\u001b[0m\n\u001b[0;32m--> 676\u001b[0;31m         \u001b[0;32mreturn\u001b[0m \u001b[0m_read\u001b[0m\u001b[0;34m(\u001b[0m\u001b[0mfilepath_or_buffer\u001b[0m\u001b[0;34m,\u001b[0m \u001b[0mkwds\u001b[0m\u001b[0;34m)\u001b[0m\u001b[0;34m\u001b[0m\u001b[0;34m\u001b[0m\u001b[0m\n\u001b[0m\u001b[1;32m    677\u001b[0m \u001b[0;34m\u001b[0m\u001b[0m\n\u001b[1;32m    678\u001b[0m     \u001b[0mparser_f\u001b[0m\u001b[0;34m.\u001b[0m\u001b[0m__name__\u001b[0m \u001b[0;34m=\u001b[0m \u001b[0mname\u001b[0m\u001b[0;34m\u001b[0m\u001b[0;34m\u001b[0m\u001b[0m\n",
      "\u001b[0;32m~/miniconda3/envs/codevscovid/lib/python3.7/site-packages/pandas/io/parsers.py\u001b[0m in \u001b[0;36m_read\u001b[0;34m(filepath_or_buffer, kwds)\u001b[0m\n\u001b[1;32m    446\u001b[0m \u001b[0;34m\u001b[0m\u001b[0m\n\u001b[1;32m    447\u001b[0m     \u001b[0;31m# Create the parser.\u001b[0m\u001b[0;34m\u001b[0m\u001b[0;34m\u001b[0m\u001b[0;34m\u001b[0m\u001b[0m\n\u001b[0;32m--> 448\u001b[0;31m     \u001b[0mparser\u001b[0m \u001b[0;34m=\u001b[0m \u001b[0mTextFileReader\u001b[0m\u001b[0;34m(\u001b[0m\u001b[0mfp_or_buf\u001b[0m\u001b[0;34m,\u001b[0m \u001b[0;34m**\u001b[0m\u001b[0mkwds\u001b[0m\u001b[0;34m)\u001b[0m\u001b[0;34m\u001b[0m\u001b[0;34m\u001b[0m\u001b[0m\n\u001b[0m\u001b[1;32m    449\u001b[0m \u001b[0;34m\u001b[0m\u001b[0m\n\u001b[1;32m    450\u001b[0m     \u001b[0;32mif\u001b[0m \u001b[0mchunksize\u001b[0m \u001b[0;32mor\u001b[0m \u001b[0miterator\u001b[0m\u001b[0;34m:\u001b[0m\u001b[0;34m\u001b[0m\u001b[0;34m\u001b[0m\u001b[0m\n",
      "\u001b[0;32m~/miniconda3/envs/codevscovid/lib/python3.7/site-packages/pandas/io/parsers.py\u001b[0m in \u001b[0;36m__init__\u001b[0;34m(self, f, engine, **kwds)\u001b[0m\n\u001b[1;32m    878\u001b[0m             \u001b[0mself\u001b[0m\u001b[0;34m.\u001b[0m\u001b[0moptions\u001b[0m\u001b[0;34m[\u001b[0m\u001b[0;34m\"has_index_names\"\u001b[0m\u001b[0;34m]\u001b[0m \u001b[0;34m=\u001b[0m \u001b[0mkwds\u001b[0m\u001b[0;34m[\u001b[0m\u001b[0;34m\"has_index_names\"\u001b[0m\u001b[0;34m]\u001b[0m\u001b[0;34m\u001b[0m\u001b[0;34m\u001b[0m\u001b[0m\n\u001b[1;32m    879\u001b[0m \u001b[0;34m\u001b[0m\u001b[0m\n\u001b[0;32m--> 880\u001b[0;31m         \u001b[0mself\u001b[0m\u001b[0;34m.\u001b[0m\u001b[0m_make_engine\u001b[0m\u001b[0;34m(\u001b[0m\u001b[0mself\u001b[0m\u001b[0;34m.\u001b[0m\u001b[0mengine\u001b[0m\u001b[0;34m)\u001b[0m\u001b[0;34m\u001b[0m\u001b[0;34m\u001b[0m\u001b[0m\n\u001b[0m\u001b[1;32m    881\u001b[0m \u001b[0;34m\u001b[0m\u001b[0m\n\u001b[1;32m    882\u001b[0m     \u001b[0;32mdef\u001b[0m \u001b[0mclose\u001b[0m\u001b[0;34m(\u001b[0m\u001b[0mself\u001b[0m\u001b[0;34m)\u001b[0m\u001b[0;34m:\u001b[0m\u001b[0;34m\u001b[0m\u001b[0;34m\u001b[0m\u001b[0m\n",
      "\u001b[0;32m~/miniconda3/envs/codevscovid/lib/python3.7/site-packages/pandas/io/parsers.py\u001b[0m in \u001b[0;36m_make_engine\u001b[0;34m(self, engine)\u001b[0m\n\u001b[1;32m   1112\u001b[0m     \u001b[0;32mdef\u001b[0m \u001b[0m_make_engine\u001b[0m\u001b[0;34m(\u001b[0m\u001b[0mself\u001b[0m\u001b[0;34m,\u001b[0m \u001b[0mengine\u001b[0m\u001b[0;34m=\u001b[0m\u001b[0;34m\"c\"\u001b[0m\u001b[0;34m)\u001b[0m\u001b[0;34m:\u001b[0m\u001b[0;34m\u001b[0m\u001b[0;34m\u001b[0m\u001b[0m\n\u001b[1;32m   1113\u001b[0m         \u001b[0;32mif\u001b[0m \u001b[0mengine\u001b[0m \u001b[0;34m==\u001b[0m \u001b[0;34m\"c\"\u001b[0m\u001b[0;34m:\u001b[0m\u001b[0;34m\u001b[0m\u001b[0;34m\u001b[0m\u001b[0m\n\u001b[0;32m-> 1114\u001b[0;31m             \u001b[0mself\u001b[0m\u001b[0;34m.\u001b[0m\u001b[0m_engine\u001b[0m \u001b[0;34m=\u001b[0m \u001b[0mCParserWrapper\u001b[0m\u001b[0;34m(\u001b[0m\u001b[0mself\u001b[0m\u001b[0;34m.\u001b[0m\u001b[0mf\u001b[0m\u001b[0;34m,\u001b[0m \u001b[0;34m**\u001b[0m\u001b[0mself\u001b[0m\u001b[0;34m.\u001b[0m\u001b[0moptions\u001b[0m\u001b[0;34m)\u001b[0m\u001b[0;34m\u001b[0m\u001b[0;34m\u001b[0m\u001b[0m\n\u001b[0m\u001b[1;32m   1115\u001b[0m         \u001b[0;32melse\u001b[0m\u001b[0;34m:\u001b[0m\u001b[0;34m\u001b[0m\u001b[0;34m\u001b[0m\u001b[0m\n\u001b[1;32m   1116\u001b[0m             \u001b[0;32mif\u001b[0m \u001b[0mengine\u001b[0m \u001b[0;34m==\u001b[0m \u001b[0;34m\"python\"\u001b[0m\u001b[0;34m:\u001b[0m\u001b[0;34m\u001b[0m\u001b[0;34m\u001b[0m\u001b[0m\n",
      "\u001b[0;32m~/miniconda3/envs/codevscovid/lib/python3.7/site-packages/pandas/io/parsers.py\u001b[0m in \u001b[0;36m__init__\u001b[0;34m(self, src, **kwds)\u001b[0m\n\u001b[1;32m   1889\u001b[0m         \u001b[0mkwds\u001b[0m\u001b[0;34m[\u001b[0m\u001b[0;34m\"usecols\"\u001b[0m\u001b[0;34m]\u001b[0m \u001b[0;34m=\u001b[0m \u001b[0mself\u001b[0m\u001b[0;34m.\u001b[0m\u001b[0musecols\u001b[0m\u001b[0;34m\u001b[0m\u001b[0;34m\u001b[0m\u001b[0m\n\u001b[1;32m   1890\u001b[0m \u001b[0;34m\u001b[0m\u001b[0m\n\u001b[0;32m-> 1891\u001b[0;31m         \u001b[0mself\u001b[0m\u001b[0;34m.\u001b[0m\u001b[0m_reader\u001b[0m \u001b[0;34m=\u001b[0m \u001b[0mparsers\u001b[0m\u001b[0;34m.\u001b[0m\u001b[0mTextReader\u001b[0m\u001b[0;34m(\u001b[0m\u001b[0msrc\u001b[0m\u001b[0;34m,\u001b[0m \u001b[0;34m**\u001b[0m\u001b[0mkwds\u001b[0m\u001b[0;34m)\u001b[0m\u001b[0;34m\u001b[0m\u001b[0;34m\u001b[0m\u001b[0m\n\u001b[0m\u001b[1;32m   1892\u001b[0m         \u001b[0mself\u001b[0m\u001b[0;34m.\u001b[0m\u001b[0munnamed_cols\u001b[0m \u001b[0;34m=\u001b[0m \u001b[0mself\u001b[0m\u001b[0;34m.\u001b[0m\u001b[0m_reader\u001b[0m\u001b[0;34m.\u001b[0m\u001b[0munnamed_cols\u001b[0m\u001b[0;34m\u001b[0m\u001b[0;34m\u001b[0m\u001b[0m\n\u001b[1;32m   1893\u001b[0m \u001b[0;34m\u001b[0m\u001b[0m\n",
      "\u001b[0;32mpandas/_libs/parsers.pyx\u001b[0m in \u001b[0;36mpandas._libs.parsers.TextReader.__cinit__\u001b[0;34m()\u001b[0m\n",
      "\u001b[0;32mpandas/_libs/parsers.pyx\u001b[0m in \u001b[0;36mpandas._libs.parsers.TextReader._setup_parser_source\u001b[0;34m()\u001b[0m\n",
      "\u001b[0;31mFileNotFoundError\u001b[0m: [Errno 2] File /Users/jab/codevscovid/covid_detector/XX/results_segmented.csv does not exist: '/Users/jab/codevscovid/covid_detector/XX/results_segmented.csv'"
     ]
    }
   ],
   "source": [
    "import pandas as pd\n",
    "\n",
    "df = pd.read_csv('/Users/jab/codevscovid/covid_detector/XX/results_segmented.csv')\n",
    "\n",
    "df"
   ]
  },
  {
   "cell_type": "code",
   "execution_count": 484,
   "metadata": {},
   "outputs": [],
   "source": [
    "names = []\n",
    "perfs = []\n",
    "folds = []\n",
    "params = []\n",
    "for i,row in df.iterrows():\n",
    "    for index in row.index:\n",
    "        \n",
    "        if index.startswith('fold'):\n",
    "            num_p = int(row['params'].replace('.',''))\n",
    "            folds.append(index[-1])\n",
    "            names.append(row['name'])\n",
    "            perfs.append(row[index])\n",
    "            params.append(num_p)\n"
   ]
  },
  {
   "cell_type": "code",
   "execution_count": 485,
   "metadata": {},
   "outputs": [],
   "source": [
    "res = pd.DataFrame({\n",
    "    'model': names,\n",
    "    'fold': folds,\n",
    "    'acc': perfs,\n",
    "    'parameter':params\n",
    "    \n",
    "})"
   ]
  },
  {
   "cell_type": "code",
   "execution_count": 477,
   "metadata": {},
   "outputs": [
    {
     "data": {
      "text/plain": [
       "<matplotlib.axes._subplots.AxesSubplot at 0x1e2202c10>"
      ]
     },
     "execution_count": 477,
     "metadata": {},
     "output_type": "execute_result"
    },
    {
     "data": {
      "image/png": "[encoded data removed]",
      "text/plain": [
       "<Figure size 1224x432 with 1 Axes>"
      ]
     },
     "metadata": {
      "needs_background": "light"
     },
     "output_type": "display_data"
    }
   ],
   "source": [
    "plt.figure(figsize=(17,6))\n",
    "plt.xlabel('Model', size=22)\n",
    "plt.ylabel('Accuracy', size=22)\n",
    "sns.boxenplot(x='model', y='acc', data=res)"
   ]
  },
  {
   "cell_type": "code",
   "execution_count": 472,
   "metadata": {},
   "outputs": [
    {
     "data": {
      "text/plain": [
       "0    0.920214\n",
       "1    0.929128\n",
       "2    0.829648\n",
       "3    0.887140\n",
       "4    0.903950\n",
       "5    0.921618\n",
       "6    0.854950\n",
       "7    0.859366\n",
       "8    0.900118\n",
       "9    0.894908\n",
       "dtype: float64"
      ]
     },
     "execution_count": 472,
     "metadata": {},
     "output_type": "execute_result"
    }
   ],
   "source": [
    "df.mean(axis=1)"
   ]
  },
  {
   "cell_type": "code",
   "execution_count": 471,
   "metadata": {},
   "outputs": [
    {
     "data": {
      "text/plain": [
       "<matplotlib.axes._subplots.AxesSubplot at 0x1617686d0>"
      ]
     },
     "execution_count": 471,
     "metadata": {},
     "output_type": "execute_result"
    },
    {
     "data": {
      "image/png": "[encoded data removed]",
      "text/plain": [
       "<Figure size 1224x432 with 1 Axes>"
      ]
     },
     "metadata": {
      "needs_background": "light"
     },
     "output_type": "display_data"
    }
   ],
   "source": [
    "plt.figure(figsize=(17,6))\n",
    "\n",
    "sns.boxplot(x='model', y='acc', data=res)"
   ]
  },
  {
   "cell_type": "code",
   "execution_count": 1,
   "metadata": {},
   "outputs": [],
   "source": [
    "from pocovidnet.model import get_dense_model"
   ]
  },
  {
   "cell_type": "code",
   "execution_count": 19,
   "metadata": {},
   "outputs": [
    {
     "data": {
      "text/plain": [
       "<tensorflow.python.training.tracking.util.CheckpointLoadStatus at 0x143d78e90>"
      ]
     },
     "execution_count": 19,
     "metadata": {},
     "output_type": "execute_result"
    }
   ],
   "source": [
    "model = get_dense_model(input_size=640, hidden_sizes=[512,256], batch_norm=True)\n",
    "\n",
    "\n",
    "model.load_weights('/Users/jab/Downloads/_fold_0/fold_0_epoch_02/variables/variables')"
   ]
  },
  {
   "cell_type": "code",
   "execution_count": 17,
   "metadata": {},
   "outputs": [
    {
     "name": "stdout",
     "output_type": "stream",
     "text": [
      "Model: \"model_12\"\n",
      "_________________________________________________________________\n",
      "Layer (type)                 Output Shape              Param #   \n",
      "=================================================================\n",
      "input_13 (InputLayer)        [(None, 640)]             0         \n",
      "_________________________________________________________________\n",
      "dense_42 (Dense)             (None, 512)               328192    \n",
      "_________________________________________________________________\n",
      "leaky_re_lu_30 (LeakyReLU)   (None, 512)               0         \n",
      "_________________________________________________________________\n",
      "dropout_30 (Dropout)         (None, 512)               0         \n",
      "_________________________________________________________________\n",
      "dense_43 (Dense)             (None, 512)               262656    \n",
      "_________________________________________________________________\n",
      "leaky_re_lu_31 (LeakyReLU)   (None, 512)               0         \n",
      "_________________________________________________________________\n",
      "dropout_31 (Dropout)         (None, 512)               0         \n",
      "_________________________________________________________________\n",
      "dense_44 (Dense)             (None, 256)               131328    \n",
      "_________________________________________________________________\n",
      "leaky_re_lu_32 (LeakyReLU)   (None, 256)               0         \n",
      "_________________________________________________________________\n",
      "dropout_32 (Dropout)         (None, 256)               0         \n",
      "_________________________________________________________________\n",
      "dense_45 (Dense)             (None, 4)                 1028      \n",
      "=================================================================\n",
      "Total params: 723,204\n",
      "Trainable params: 723,204\n",
      "Non-trainable params: 0\n",
      "_________________________________________________________________\n"
     ]
    }
   ],
   "source": [
    "model.summary()"
   ]
  },
  {
   "cell_type": "code",
   "execution_count": null,
   "metadata": {},
   "outputs": [],
   "source": []
  }
 ],
 "metadata": {
  "kernelspec": {
   "display_name": "Python 3.7.6 64-bit ('codevscovid': conda)",
   "language": "python",
   "name": "python37664bitcodevscovidconda6872b67e8fa54883830faf0121e74bf7"
  },
  "language_info": {
   "codemirror_mode": {
    "name": "ipython",
    "version": 3
   },
   "file_extension": ".py",
   "mimetype": "text/x-python",
   "name": "python",
   "nbconvert_exporter": "python",
   "pygments_lexer": "ipython3",
   "version": "3.7.6"
  }
 },
 "nbformat": 4,
 "nbformat_minor": 4
}
